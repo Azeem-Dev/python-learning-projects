{
 "cells": [
  {
   "cell_type": "code",
   "execution_count": 6,
   "id": "91ef89dd-82fb-4ca1-ab89-d2e18a4f6703",
   "metadata": {},
   "outputs": [],
   "source": [
    "import pandas as pd\n",
    "import numpy as np\n",
    "import matplotlib.pyplot as plt\n",
    "import sklearn"
   ]
  },
  {
   "cell_type": "markdown",
   "id": "fd4ca7e4-4786-4583-a943-b6d7fd13617c",
   "metadata": {},
   "source": [
    "THERE ARE 3 things \n",
    "\n",
    "1. CODE\n",
    "2. MARKDOWN (TEXT + IMAGES)\n",
    "3. COMMAND LINE COMMANDS"
   ]
  },
  {
   "cell_type": "markdown",
   "id": "b82905f4-39d4-477e-b202-82eca2b14e63",
   "metadata": {},
   "source": [
    "## GET COMMAND MODE FROM A CELL\n",
    "\n",
    "TO get command mode from a cell you need to press escape"
   ]
  },
  {
   "cell_type": "markdown",
   "id": "5d41d6dc-6a41-4e95-a872-843e54d93ce5",
   "metadata": {},
   "source": [
    "TO CONVERT A CELL TO MARKDOWN GO TO COMMAND MODE BY PRESSING ESCAPE AND THEN PRESS M."
   ]
  },
  {
   "cell_type": "markdown",
   "id": "7137cb2d-c3eb-41cf-8a52-53f7aba7faf5",
   "metadata": {},
   "source": [
    "To convert a text to markdown press escape and then press m and then press shift enter to create a new cell."
   ]
  },
  {
   "cell_type": "markdown",
   "id": "642314db-4444-4832-a2b4-cec263ae62b0",
   "metadata": {},
   "source": [
    "TO CONVERT A CELL FROM MARKDOWN TO CODE JUST PRESS C IN COMMAND MODE."
   ]
  },
  {
   "cell_type": "markdown",
   "id": "7af7de02-4371-447f-91c9-89edf84e8fab",
   "metadata": {},
   "source": [
    "Press escape and then press a to create a cell above"
   ]
  },
  {
   "cell_type": "markdown",
   "id": "91cedd69-b12a-4ef5-a58e-6d07b1b53b5f",
   "metadata": {},
   "source": [
    "Press escape and then press b to create a cell below"
   ]
  },
  {
   "cell_type": "markdown",
   "id": "025161ce-715e-4ec8-91b4-7c44ea3b9f64",
   "metadata": {},
   "source": [
    "In Command mode if you press CTRL + SHIFT + ARROW UP  //// CTRL + SHIFT + ARROW DOWN. It will move the cell up and down and you can rearrange it \n",
    "according to your need."
   ]
  },
  {
   "cell_type": "markdown",
   "id": "315d580e-ef8c-46ea-933b-15501415b7f1",
   "metadata": {},
   "source": [
    "In Command Mode if you press S it will Save the jupyter notebook"
   ]
  },
  {
   "cell_type": "markdown",
   "id": "6e6d38bc-bcee-4422-8202-3e20a2572bcf",
   "metadata": {},
   "source": [
    "# HEART DISEASE CLASIFICATION"
   ]
  },
  {
   "cell_type": "code",
   "execution_count": 12,
   "id": "ed800e78-e1cf-4b4d-b31a-9ffbb3c8c755",
   "metadata": {},
   "outputs": [
    {
     "name": "stdout",
     "output_type": "stream",
     "text": [
      " Volume in drive D is New Volume\n",
      " Volume Serial Number is 4C4D-6F4C\n",
      "\n",
      " Directory of D:\\AZEEM\\LEARNING\\PYTHON\\python-projects\\machine-learning\\sample-project\n",
      "\n",
      "04/09/2025  11:51 am    <DIR>          .\n",
      "02/09/2025  05:40 pm    <DIR>          ..\n",
      "03/09/2025  12:00 pm    <DIR>          .ipynb_checkpoints\n",
      "03/09/2025  11:54 am    <DIR>          env\n",
      "04/09/2025  11:51 am             2,336 initial.ipynb\n",
      "               1 File(s)          2,336 bytes\n",
      "               4 Dir(s)  49,282,162,688 bytes free\n"
     ]
    }
   ],
   "source": [
    "ls"
   ]
  },
  {
   "cell_type": "code",
   "execution_count": 13,
   "id": "1fad6e13-1e95-42a9-a9ce-1d65621664c4",
   "metadata": {},
   "outputs": [
    {
     "name": "stdout",
     "output_type": "stream",
     "text": [
      " Volume in drive D is New Volume\n",
      " Volume Serial Number is 4C4D-6F4C\n",
      "\n",
      " Directory of D:\\AZEEM\\LEARNING\\PYTHON\\python-projects\\machine-learning\\sample-project\n",
      "\n",
      "04/09/2025  11:52 am    <DIR>          .\n",
      "02/09/2025  05:40 pm    <DIR>          ..\n",
      "03/09/2025  12:00 pm    <DIR>          .ipynb_checkpoints\n",
      "03/09/2025  11:54 am    <DIR>          env\n",
      "04/09/2025  11:52 am             3,783 initial.ipynb\n",
      "               1 File(s)          3,783 bytes\n",
      "               4 Dir(s)  49,282,162,688 bytes free\n"
     ]
    }
   ],
   "source": [
    "!dir"
   ]
  },
  {
   "cell_type": "code",
   "execution_count": null,
   "id": "b1657426-1554-4205-9d08-5222cb9ba424",
   "metadata": {},
   "outputs": [],
   "source": []
  },
  {
   "cell_type": "code",
   "execution_count": null,
   "id": "cfc028bb-8f9d-4bfc-b705-1364a4ec9833",
   "metadata": {},
   "outputs": [],
   "source": []
  }
 ],
 "metadata": {
  "kernelspec": {
   "display_name": "Python 3 (ipykernel)",
   "language": "python",
   "name": "python3"
  },
  "language_info": {
   "codemirror_mode": {
    "name": "ipython",
    "version": 3
   },
   "file_extension": ".py",
   "mimetype": "text/x-python",
   "name": "python",
   "nbconvert_exporter": "python",
   "pygments_lexer": "ipython3",
   "version": "3.13.5"
  }
 },
 "nbformat": 4,
 "nbformat_minor": 5
}
